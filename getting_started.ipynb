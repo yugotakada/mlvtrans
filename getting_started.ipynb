{
 "cells": [
  {
   "cell_type": "markdown",
   "id": "006e8748-aa1f-47e3-bea4-030d62eb8f5a",
   "metadata": {},
   "source": [
    "# What is mlvtrans?"
   ]
  },
  {
   "cell_type": "markdown",
   "id": "c734ca1b-c187-42d3-b40b-77bed2fede33",
   "metadata": {},
   "source": [
    "mlvtrans is a python package that implements the algorithm explained in Appendix C of the paper [Logical Clifford gates with multilevel transversality](https://scholar.google.co.jp/citations?user=hIPtQG8AAAAJ&hl=ja). For any self-dual quantum CSS code which satisfies certain conditions (see Theorem 1. in [Logical Clifford gates with multilevel transversality](https://scholar.google.co.jp/citations?user=hIPtQG8AAAAJ&hl=ja)), mlvtrans constructs a compatible symplectic basis, which is a symplectic basis such that (1) transversal logical Hadamard gates $\\bigotimes_{j=1}^{k} \\bar{H}_j$ can be implemented by transversal physical Hadamard gates $\\bigotimes_{i=1}^{n} H_i$, and (2) for any $(a_1,\\dots,a_k)\\in\\{-1,1\\}^k$, transversal logical phase-type gates $\\bigotimes_{j=1}^{k} \\bar{S}_j^{a_j}$ can be implemented by transversal physical phase-type gates $\\bigotimes_{i=1}^{n} S_i^{b_i}$ for some $(b_1,\\dots,b_n)\\in\\{-1,1\\}^n$. mlvtrans also outputs such $(b_1,\\dots,b_n)\\in\\{-1,1\\}^n$ for any choice of $(a_1,\\dots,a_k)\\in\\{-1,1\\}^k$."
   ]
  },
  {
   "cell_type": "markdown",
   "id": "0ee35e57-b9ab-4635-9455-5791c16659df",
   "metadata": {},
   "source": [
    "# Install the python package"
   ]
  },
  {
   "cell_type": "markdown",
   "id": "049bed09-d0d0-496f-b7a2-edc94faf32be",
   "metadata": {},
   "source": [
    "You can install the package mlvtrans by running `pip install mlvtrans`, and then import it with `import mlvtrans`."
   ]
  },
  {
   "cell_type": "code",
   "execution_count": null,
   "id": "b6c45254-a44c-4cbd-9f2f-71317e9c1864",
   "metadata": {},
   "outputs": [],
   "source": [
    "pip install mlvtrans"
   ]
  },
  {
   "cell_type": "code",
   "execution_count": 1,
   "id": "8808bbe3-cdad-4c4a-987b-0ec4cc00218c",
   "metadata": {},
   "outputs": [
    {
     "name": "stdout",
     "output_type": "stream",
     "text": [
      "0.1.1\n"
     ]
    }
   ],
   "source": [
    "import mlvtrans\n",
    "print(mlvtrans.__version__)"
   ]
  },
  {
   "cell_type": "markdown",
   "id": "2d30be39-149b-4e5d-894c-b975b439931e",
   "metadata": {},
   "source": [
    "# How to use mlvtrans"
   ]
  },
  {
   "cell_type": "markdown",
   "id": "7d94c79b-3964-405f-846b-f2b303c8da37",
   "metadata": {},
   "source": [
    "You can execute all the procedures that mlvtrans offers by running `mlvtrans.run()`:"
   ]
  },
  {
   "cell_type": "markdown",
   "id": "49f536df-cb26-40de-b89f-2f0c92064f22",
   "metadata": {},
   "source": [
    "- `mlvtrans.run(H_matrix, A_matrix, desired_logical_S)`\n",
    "    <br>It performs all the following steps: execute Algorithm 1 to obtain an initial sympletic basis, apply Lemma 2 to obtain a compatible symplectic basis, determine the appropriate transversal physical phase-type gates, and finally conduct a test to ensure that the obtained sympletic basis is compatible, and the obtained physical phase-type gates correspond to the desired logical phase-type gates.\n",
    "\n",
    "    **Args:**\n",
    "        <br>H_matrix: A parity check matrix expressed by `np.array` (each element is 0 or 1).\n",
    "        <br>A_matrix: A set of coset representatives expressed by `np.array` (each element is 0 or 1).\n",
    "        <br>desired_logical_S: Desired transversal logical phase-type gates provided in tuple format (each element is 1 or -1).\n"
   ]
  },
  {
   "cell_type": "markdown",
   "id": "8d3dddcf-c1f9-423f-a319-f9b6fb30c30a",
   "metadata": {},
   "source": [
    "- `mlvtrans.run_auto_coset(H_matrix, desired_logical_S)`\n",
    "<br>With this functions, you only need to provide a parity check matrix and desired logical phase-type gates. Coset representatives are automatically calculated using Stim’s `stim.Tableau.from_stabilizers`. You have to install Stim to use this function. This functio is especially useful when only the stabilizers of a self-dual CSS code are known, and you do not know the coset representatives, or logical operators."
   ]
  },
  {
   "cell_type": "markdown",
   "id": "4d0312cb-bbcd-4c77-abfa-ac24b09aa714",
   "metadata": {},
   "source": [
    "There are several built-in examples of self-dual CSS codes:\n",
    "- `mlvtrans.examples(example_choice)`\n",
    "    - example_choice=\"15_7_3\"\n",
    "        <br> [[15,7,3]] quantum Hamming code\n",
    "    - example_choice=\"31_11_5\"\n",
    "        <br> [[31,11,5]] quantum BCH code\n",
    "    - example_choice=\"16_4_3\"\n",
    "        <br> [[16,4,3]] color code\n",
    "    - example_choice=\"6_2_2\"\n",
    "        <br> [[6,2,2]] code\n",
    "    - example_choice=\"4_2_2\"\n",
    "        <br> [[4,2,2]] code\n",
    "    - example_choice=\"19_1_5\"\n",
    "        <br> [[19,1,5]] distance-5 hexagonal color code\n"
   ]
  },
  {
   "cell_type": "markdown",
   "id": "3998f909-2ae4-4959-a061-af6253517bfd",
   "metadata": {},
   "source": [
    "Although it is enough to just run `mlvtrans.run()` to execute the whole procedures, there are also functions available to execute each part separately:\n",
    "- `mlvtrans.alg1(A_matrix)`\n",
    "    <br>Execute Algorithm 1.\n",
    "\n",
    "    **Args:**\n",
    "    <br>A_matrix: A set of coset replesentatives expressed by `np.array`.\n",
    "\n",
    "    **Returns:**\n",
    "    <br>Two lists (for logical $X$ and $Z$) corresponding to a sympletic basis obtained by executing Algorithm 1.\n",
    "\n",
    "- `mlvtrans.lemma2(Lx, Lz)`\n",
    "    <br>Execute Lemma 2.\n",
    "\n",
    "    **Args:**\n",
    "    <br> Lx, Lz: The lists corresponding to a a sympletic basis.\n",
    "\n",
    "    **Returns:**\n",
    "    <br> Two lists (for logical $X$ and $Z$) corresponding to a sympletic basis obtained by applying Lemma 2.\n",
    "- `mlvtrans.phys_S_for_logi_S(H_matrix, desired_logical_S, Lx)`\n",
    "    <br>Find the transversal physical phase-type gates whose logical actions are the desired ones.\n",
    "\n",
    "    **Args:**\n",
    "    <br> H_matrix: A parity check matrix expressed by `np.array`.\n",
    "    <br> desired_logical_S: Desired logical phase-type gates provided in tuple format.\n",
    "    <br> Lx: The list of an $X$ part (can be $Z$ part) of a compatible sympletic basis.\n",
    "\n",
    "    **Returns:**\n",
    "     <br> A configuration of transversal physical phase-type gates represented by `np.ndarray`.\n",
    "- `mlvtrans.check_compatible(H_matrix, Lx, Lz)`\n",
    "    <br>Check whether the input sympletic basis is compatible. This function verifies whether each pair of logical operators shares the same odd-weight support, whether every logical operator commutes with the stabilizer group, and whether the logical operators have the appropriate commutation relations among themselves.\n",
    "\n",
    "    **Args:**\n",
    "    <br> H_matrix: A parity check matrix expressed by `np.array`.\n",
    "    <br> Lx: The list of an $X$ part of a sympletic basis.\n",
    "    <br> Lz: The list of a $Z$ part of a sympletic basis.\n",
    "\n",
    "    **Returns:**\n",
    "     <br>  True if the input sympletic basis is compatible; False otherwise.\n",
    "- `mlvtrans.check_S(H_matrix, desired_logical_S, Lx, physical_S)`\n",
    "    <br>Check whether the input physical phase-type gates are logical gates (i.e., they preserve the stabilizer group) and check whether the resulting logical gates are the same as what we want.\n",
    "\n",
    "    **Args:**\n",
    "    <br> H_matrix: A parity check matrix expressed by `np.array`.\n",
    "    <br> desired_logical_S: Desired logical phase-type gates provided in tuple format.\n",
    "    <br> Lx: The list of an $X$ part (can be $Z$ part) of a compatible sympletic basis.\n",
    "    <br> physical_S: The output of `mlvtrans.phys_S_for_logi_S()`.\n",
    "  \n",
    "    **Returns:**\n",
    "    <br>  True if the logical actions match the ones specified by `desired_logical_S`; False otherwise."
   ]
  },
  {
   "cell_type": "markdown",
   "id": "a29f4ab4-ff4e-4e2b-b9c9-2ed66e541567",
   "metadata": {},
   "source": [
    "# Demonstrations "
   ]
  },
  {
   "cell_type": "markdown",
   "id": "17f701b5-38e8-4cb1-aabc-00452d38f123",
   "metadata": {},
   "source": [
    "Here, we show some examples to construct a compatible symplectic basis and transversal phase-type gates for self-dual CSS codes."
   ]
  },
  {
   "cell_type": "markdown",
   "id": "454714f7-be6e-430f-b467-fdc503347f62",
   "metadata": {},
   "source": [
    "## 1. &nbsp; [[15,7,3]] quantum Hamming code "
   ]
  },
  {
   "cell_type": "markdown",
   "id": "fa3ad724-35e6-4ad0-954f-b6665722519d",
   "metadata": {},
   "source": [
    "Define a parity check matrix `H` and a set of coset representatives `A` using `np.array`, and define a desired choice `S` of logical phase-type gates (the combination of logical phase-type gates for which you want to find the corresponding combination of physical phase-type gates) using a tuple, starting from the 0th logical qubit (in 0-based indexing), where $\\bar{S}$ is represented by 1 and $\\bar{S}^\\dagger$ by –1. Note that a set of coset representatives `A` corresponds to one type ($X$ or $Z$) of logical operators."
   ]
  },
  {
   "cell_type": "code",
   "execution_count": 2,
   "id": "56b17cc4-504f-4dc0-adc9-011235a89af8",
   "metadata": {},
   "outputs": [],
   "source": [
    "import numpy as np\n",
    "H = np.array([\n",
    "    [1, 0, 1, 0, 1, 0, 1, 0, 1, 0, 1, 0, 1, 0, 1],\n",
    "    [0, 1, 1, 0, 0, 1, 1, 0, 0, 1, 1, 0, 0, 1, 1],\n",
    "    [0, 0, 0, 1, 1, 1, 1, 0, 0, 0, 0, 1, 1, 1, 1],\n",
    "    [0, 0, 0, 0, 0, 0, 0, 1, 1, 1, 1, 1, 1, 1, 1],\n",
    "], dtype=int)\n",
    "A = np.array([\n",
    "    [0, 0, 1, 0, 0, 0, 1, 0, 0, 0, 1, 0, 0, 0, 1],\n",
    "    [0, 0, 0, 0, 0, 0, 0, 0, 0, 0, 0, 1, 1, 1, 1],\n",
    "    [0, 0, 0, 0, 1, 0, 1, 0, 0, 0, 0, 0, 1, 0, 1],\n",
    "    [0, 0, 0, 0, 0, 0, 0, 0, 0, 1, 1, 0, 0, 1, 1],\n",
    "    [0, 0, 0, 0, 0, 0, 0, 0, 1, 0, 1, 0, 1, 0, 1],\n",
    "    [0, 0, 0, 0, 0, 1, 1, 0, 0, 0, 0, 0, 0, 1, 1],\n",
    "    [1, 1, 1, 1, 1, 1, 1, 1, 1, 1, 1, 1, 1, 1, 1],\n",
    "], dtype=int)\n",
    "S = (1, 1, 1, 1, 1, 1, 1)"
   ]
  },
  {
   "cell_type": "markdown",
   "id": "09edc463-fd43-4873-a9ca-17d0e27d6c45",
   "metadata": {},
   "source": [
    "Then, `mlvtrans.run()` gives a compatible sympletic basis and transversal physical phase-type gates that implement the transversal logical phase-type gates specified by `S`:"
   ]
  },
  {
   "cell_type": "code",
   "execution_count": 4,
   "id": "50dd1728-eb65-4fed-b777-ef0e00f407d5",
   "metadata": {},
   "outputs": [
    {
     "name": "stdout",
     "output_type": "stream",
     "text": [
      "Parity-check matrix H:\n",
      "[[1 0 1 0 1 0 1 0 1 0 1 0 1 0 1]\n",
      " [0 1 1 0 0 1 1 0 0 1 1 0 0 1 1]\n",
      " [0 0 0 1 1 1 1 0 0 0 0 1 1 1 1]\n",
      " [0 0 0 0 0 0 0 1 1 1 1 1 1 1 1]]\n",
      "\n",
      "Coset representatives matrix A:\n",
      "[[0 0 1 0 0 0 1 0 0 0 1 0 0 0 1]\n",
      " [0 0 0 0 0 0 0 0 0 0 0 1 1 1 1]\n",
      " [0 0 0 0 1 0 1 0 0 0 0 0 1 0 1]\n",
      " [0 0 0 0 0 0 0 0 0 1 1 0 0 1 1]\n",
      " [0 0 0 0 0 0 0 0 1 0 1 0 1 0 1]\n",
      " [0 0 0 0 0 1 1 0 0 0 0 0 0 1 1]\n",
      " [1 1 1 1 1 1 1 1 1 1 1 1 1 1 1]]\n",
      "\n",
      "Desired logical phase-type gates:\n",
      " 0  1  2  3  4  5  6 \n",
      " S̅  S̅  S̅  S̅  S̅  S̅  S̅ \n",
      "Indices with S̅†: \n",
      "\n",
      "Initial symplectic basis from Algorithm 1:\n",
      "Pair 1:\n",
      "  Lx = [1 1 1 1 1 1 1 1 1 1 1 1 1 1 1]   support = (0, 1, 2, 3, 4, 5, 6, 7, 8, 9, 10, 11, 12, 13, 14)   weight = 15\n",
      "  Lz = [1 1 1 1 1 1 1 1 1 1 1 1 1 1 1]   support = (0, 1, 2, 3, 4, 5, 6, 7, 8, 9, 10, 11, 12, 13, 14)   weight = 15\n",
      "Pair 2:\n",
      "  Lx = [0 0 1 0 0 0 1 0 0 0 1 0 0 0 1]   support = (2, 6, 10, 14)   weight = 4\n",
      "  Lz = [0 0 0 0 0 0 0 0 0 0 0 1 1 1 1]   support = (11, 12, 13, 14)   weight = 4\n",
      "Pair 3:\n",
      "  Lx = [0 0 0 0 0 0 0 0 0 0 0 1 1 1 1]   support = (11, 12, 13, 14)   weight = 4\n",
      "  Lz = [0 0 1 0 0 0 1 0 0 0 1 0 0 0 1]   support = (2, 6, 10, 14)   weight = 4\n",
      "Pair 4:\n",
      "  Lx = [0 0 0 0 1 0 1 0 0 0 0 0 1 0 1]   support = (4, 6, 12, 14)   weight = 4\n",
      "  Lz = [0 0 0 0 0 0 0 0 0 1 1 0 0 1 1]   support = (9, 10, 13, 14)   weight = 4\n",
      "Pair 5:\n",
      "  Lx = [0 0 0 0 0 0 0 0 0 1 1 0 0 1 1]   support = (9, 10, 13, 14)   weight = 4\n",
      "  Lz = [0 0 0 0 1 0 1 0 0 0 0 0 1 0 1]   support = (4, 6, 12, 14)   weight = 4\n",
      "Pair 6:\n",
      "  Lx = [0 0 0 0 0 0 0 0 1 0 1 0 1 0 1]   support = (8, 10, 12, 14)   weight = 4\n",
      "  Lz = [0 0 0 0 0 1 1 0 0 0 0 0 0 1 1]   support = (5, 6, 13, 14)   weight = 4\n",
      "Pair 7:\n",
      "  Lx = [0 0 0 0 0 1 1 0 0 0 0 0 0 1 1]   support = (5, 6, 13, 14)   weight = 4\n",
      "  Lz = [0 0 0 0 0 0 0 0 1 0 1 0 1 0 1]   support = (8, 10, 12, 14)   weight = 4\n",
      "\n",
      "Compatible symplectic basis:\n",
      "Pair 1:\n",
      "  Lx = [1 1 0 1 0 0 0 1 0 0 0 0 0 0 1]   support = (0, 1, 3, 7, 14)   weight = 5\n",
      "  Lz = [1 1 0 1 0 0 0 1 0 0 0 0 0 0 1]   support = (0, 1, 3, 7, 14)   weight = 5\n",
      "Pair 2:\n",
      "  Lx = [1 1 0 1 1 1 0 1 1 1 0 1 1 1 0]   support = (0, 1, 3, 4, 5, 7, 8, 9, 11, 12, 13)   weight = 11\n",
      "  Lz = [1 1 0 1 1 1 0 1 1 1 0 1 1 1 0]   support = (0, 1, 3, 4, 5, 7, 8, 9, 11, 12, 13)   weight = 11\n",
      "Pair 3:\n",
      "  Lx = [1 1 1 1 1 1 1 1 1 1 1 0 0 0 0]   support = (0, 1, 2, 3, 4, 5, 6, 7, 8, 9, 10)   weight = 11\n",
      "  Lz = [1 1 1 1 1 1 1 1 1 1 1 0 0 0 0]   support = (0, 1, 2, 3, 4, 5, 6, 7, 8, 9, 10)   weight = 11\n",
      "Pair 4:\n",
      "  Lx = [1 1 0 1 0 1 1 1 1 1 0 0 1 0 0]   support = (0, 1, 3, 5, 6, 7, 8, 9, 12)   weight = 9\n",
      "  Lz = [1 1 0 1 0 1 1 1 1 1 0 0 1 0 0]   support = (0, 1, 3, 5, 6, 7, 8, 9, 12)   weight = 9\n",
      "Pair 5:\n",
      "  Lx = [1 1 0 1 1 1 0 1 1 0 1 0 0 1 0]   support = (0, 1, 3, 4, 5, 7, 8, 10, 13)   weight = 9\n",
      "  Lz = [1 1 0 1 1 1 0 1 1 0 1 0 0 1 0]   support = (0, 1, 3, 4, 5, 7, 8, 10, 13)   weight = 9\n",
      "Pair 6:\n",
      "  Lx = [1 1 0 1 0 1 1 1 0 0 0 0 0 1 0]   support = (0, 1, 3, 5, 6, 7, 13)   weight = 7\n",
      "  Lz = [1 1 0 1 0 1 1 1 0 0 0 0 0 1 0]   support = (0, 1, 3, 5, 6, 7, 13)   weight = 7\n",
      "Pair 7:\n",
      "  Lx = [1 1 0 1 0 0 0 1 1 0 1 0 1 0 0]   support = (0, 1, 3, 7, 8, 10, 12)   weight = 7\n",
      "  Lz = [1 1 0 1 0 0 0 1 1 0 1 0 1 0 0]   support = (0, 1, 3, 7, 8, 10, 12)   weight = 7\n",
      "\n",
      "Physical phase-type gates to achieve the desired logical phase-type gates:\n",
      " 0  1  2  3  4  5  6  7  8  9  10 11 12 13 14\n",
      " S  S  S† S  S  S† S  S  S† S  S  S† S  S  S \n",
      "Indices with S†: 2 5 8 11\n",
      "\n",
      "Is the symplectic basis compatible?: YES\n",
      "\n",
      "Do the physical phase-type gates give the desired logical phase-type gates?: YES\n"
     ]
    }
   ],
   "source": [
    "mlvtrans.run(H_matrix=H, A_matrix=A, desired_logical_S=S)"
   ]
  },
  {
   "cell_type": "markdown",
   "id": "dab6271b-536e-44b8-baf2-e5e15281763f",
   "metadata": {},
   "source": [
    "## 2. &nbsp; distance-5 hexagonal color code"
   ]
  },
  {
   "cell_type": "markdown",
   "id": "20a86650-6b4a-48a3-9a95-024ec66d8377",
   "metadata": {},
   "source": [
    "The hexagonal color code is a clear example of a code that, despite having stabilizers that are not doubly-even, can implement logical phase-type gates via transversal physical phase-type gates. Here, we input the code by specifying indices, using a function `convert_index_to_matrix(num_qubit, num_logical_qubits, h_indices, a_indices, logical_S_dict)`. With this function, you can define a parity check matrix and a set of coset representatives by specifying the indices corresponding to the 1 entries in them, as well as the indices of the logical qubits on which $\\bar{S}^\\dagger$ gates are intended to act. This function might be particularly useful when it is painful to explicitly type `np.array` for large-size codes."
   ]
  },
  {
   "cell_type": "code",
   "execution_count": 12,
   "id": "2b49fbaf-673d-40cf-b8a2-3b54efbb8f89",
   "metadata": {},
   "outputs": [],
   "source": [
    "num_qubit = 19\n",
    "num_stabilizer = 9\n",
    "num_logical_qubits = 1\n",
    "h_indices = {\n",
    "    0: [0,1,2,3],\n",
    "    1: [1,3,5,6],\n",
    "    2: [2,3,4,5,7,8],\n",
    "    3: [4,7,10,11],\n",
    "    4: [5,6,8,9,12,13],\n",
    "    5: [10,11,14,15],\n",
    "    6: [7,8,11,12,15,16],\n",
    "    7: [12,13,16,17],\n",
    "    8: [9,13,17,18],\n",
    "}\n",
    "a_indices = {\n",
    "    0: [14,15,16,17,18],\n",
    "}\n",
    "logical_S_dict = {\n",
    "    0: -1,\n",
    "}\n",
    "H, A, S = mlvtrans.convert_index_to_matrix(num_qubit=num_qubit, num_logical_qubits=num_logical_qubits, h_indices=h_indices, a_indices=a_indices, logical_S_dict=logical_S_dict)"
   ]
  },
  {
   "cell_type": "code",
   "execution_count": 13,
   "id": "867034c7-7540-4c48-bc1b-1a6889cbfc61",
   "metadata": {},
   "outputs": [
    {
     "name": "stdout",
     "output_type": "stream",
     "text": [
      "Parity-check matrix H:\n",
      "[[1 1 1 1 0 0 0 0 0 0 0 0 0 0 0 0 0 0 0]\n",
      " [0 1 0 1 0 1 1 0 0 0 0 0 0 0 0 0 0 0 0]\n",
      " [0 0 1 1 1 1 0 1 1 0 0 0 0 0 0 0 0 0 0]\n",
      " [0 0 0 0 1 0 0 1 0 0 1 1 0 0 0 0 0 0 0]\n",
      " [0 0 0 0 0 1 1 0 1 1 0 0 1 1 0 0 0 0 0]\n",
      " [0 0 0 0 0 0 0 0 0 0 1 1 0 0 1 1 0 0 0]\n",
      " [0 0 0 0 0 0 0 1 1 0 0 1 1 0 0 1 1 0 0]\n",
      " [0 0 0 0 0 0 0 0 0 0 0 0 1 1 0 0 1 1 0]\n",
      " [0 0 0 0 0 0 0 0 0 1 0 0 0 1 0 0 0 1 1]]\n",
      "\n",
      "Coset representatives matrix A:\n",
      "[[0 0 0 0 0 0 0 0 0 0 0 0 0 0 1 1 1 1 1]]\n",
      "\n",
      "Desired logical phase-type gates:\n",
      " 0 \n",
      " S̅†\n",
      "Indices with S̅†: 0\n",
      "\n",
      "Initial symplectic basis from Algorithm 1:\n",
      "Pair 1:\n",
      "  Lx = [0 0 0 0 0 0 0 0 0 0 0 0 0 0 1 1 1 1 1]   support = (14, 15, 16, 17, 18)   weight = 5\n",
      "  Lz = [0 0 0 0 0 0 0 0 0 0 0 0 0 0 1 1 1 1 1]   support = (14, 15, 16, 17, 18)   weight = 5\n",
      "\n",
      "Compatible symplectic basis:\n",
      "Pair 1:\n",
      "  Lx = [0 0 0 0 0 0 0 0 0 0 0 0 0 0 1 1 1 1 1]   support = (14, 15, 16, 17, 18)   weight = 5\n",
      "  Lz = [0 0 0 0 0 0 0 0 0 0 0 0 0 0 1 1 1 1 1]   support = (14, 15, 16, 17, 18)   weight = 5\n",
      "\n",
      "Physical phase-type gates to achieve the desired logical phase-type gates:\n",
      " 0  1  2  3  4  5  6  7  8  9  10 11 12 13 14 15 16 17 18\n",
      " S† S† S  S  S† S† S  S† S  S  S  S  S  S  S† S† S† S† S†\n",
      "Indices with S†: 0 1 4 5 7 14 15 16 17 18\n",
      "\n",
      "Is the symplectic basis compatible?: YES\n",
      "\n",
      "Do the physical phase-type gates give the desired logical phase-type gates?: YES\n"
     ]
    }
   ],
   "source": [
    "mlvtrans.run(H_matrix=H, A_matrix=A, desired_logical_S=S)"
   ]
  },
  {
   "cell_type": "markdown",
   "id": "ed63ba60-046f-4469-a5cd-2391647f0367",
   "metadata": {},
   "source": [
    "## 3. &nbsp; [[4,2,2]] code"
   ]
  },
  {
   "cell_type": "markdown",
   "id": "28073dad-d582-4d3e-ad8c-84c062c9dfd7",
   "metadata": {},
   "source": [
    "In the [[4,2,2]] code, none of the coset representatives has odd weight, so a compatible symplectic basis does not exist."
   ]
  },
  {
   "cell_type": "code",
   "execution_count": 14,
   "id": "37cd6ae9-fc31-4767-a8e2-5584dd22ba68",
   "metadata": {},
   "outputs": [],
   "source": [
    "H = np.array([\n",
    "    [1, 1, 1, 1],\n",
    "], dtype=int)\n",
    "A = np.array([\n",
    "    [0, 0, 1, 1],\n",
    "    [1, 0, 1, 0],\n",
    "], dtype=int)\n",
    "S = (-1, 1)"
   ]
  },
  {
   "cell_type": "code",
   "execution_count": 15,
   "id": "ffb60485-62a3-4ce3-b575-44c3a132a5ea",
   "metadata": {},
   "outputs": [
    {
     "name": "stdout",
     "output_type": "stream",
     "text": [
      "Parity-check matrix H:\n",
      "[[1 1 1 1]]\n",
      "\n",
      "Coset representatives matrix A:\n",
      "[[0 0 1 1]\n",
      " [1 0 1 0]]\n",
      "\n",
      "Desired logical phase-type gates:\n",
      " 0  1 \n",
      " S̅† S̅ \n",
      "Indices with S̅†: 0\n",
      "\n",
      "Compatible symplectic basis does not exist: no vector in A has odd weight.\n"
     ]
    }
   ],
   "source": [
    "mlvtrans.run(H_matrix=H, A_matrix=A, desired_logical_S=S)"
   ]
  }
 ],
 "metadata": {
  "kernelspec": {
   "display_name": "Python 3 (ipykernel)",
   "language": "python",
   "name": "python3"
  },
  "language_info": {
   "codemirror_mode": {
    "name": "ipython",
    "version": 3
   },
   "file_extension": ".py",
   "mimetype": "text/x-python",
   "name": "python",
   "nbconvert_exporter": "python",
   "pygments_lexer": "ipython3",
   "version": "3.10.13"
  }
 },
 "nbformat": 4,
 "nbformat_minor": 5
}
